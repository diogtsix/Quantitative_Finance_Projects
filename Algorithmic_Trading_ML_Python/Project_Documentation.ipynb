{
 "cells": [
  {
   "cell_type": "markdown",
   "metadata": {},
   "source": [
    "# ALGORITHMIC TRADING BASICS\n",
    "\n",
    "What is : \n",
    "\n",
    "        - Predifined set of rules, combined into an algorithm\n",
    "\n",
    "        - Developed with programming language and run by computers. \n",
    "\n",
    "        - Can be used for both manual (for example : screener with set of stocks, alert generation etc.) and automaed trading \n",
    "\n",
    "Python for Algo Trading : \n",
    "\n",
    "        - At the moment, python is the most popular language used in algorithmic trading, quantitative finance and data science. \n",
    "        Mainly used for research and backtesting.\n",
    "\n",
    "        - Many open - source libraries compatible for ML. Great for simple systems.\n",
    "\n",
    "        - For high-end systems automating the execution with Java or C++ is used as they are way faster than Python. \n",
    "\n"
   ]
  },
  {
   "cell_type": "markdown",
   "metadata": {},
   "source": [
    "# MACHINE LEARNING IN TRADING \n",
    "\n",
    "Some use cases of ML in trading :\n",
    "\n",
    "    - Supervised Learning \n",
    "\n",
    "        Signal generation through prediction. For example buy or sell siganls, based on predicted returns or direction.\n",
    "        Risk management through prediction. For example determining position sizing and stop-loss levels to have more optimized risk. \n",
    "\n",
    "    - Unsupervised Learning \n",
    "\n",
    "        Extract insights from the data. For example discover patterns, relationships and structures. \n",
    "\n",
    "Main Challenges of ML in trading :\n",
    "\n",
    "    - Reflecivity : \n",
    "\n",
    "            - Very hard to predict returns or prices\n",
    "            - Quite hard to predict return signs\n",
    "            - Hard to predict economic indicator. \n",
    "            - Not so hard to predict volatility \n",
    "\n",
    "        \n",
    "    Furthermore, some technical challenges are overfitting and generalization, non - stationarity and regime shifts, as well interpretation of black-box models. \n",
    "\n",
    "        "
   ]
  },
  {
   "cell_type": "markdown",
   "metadata": {},
   "source": [
    "# WORKFLOW PROCESS\n",
    "\n",
    "    1) Collect and prepare the data\n",
    "\n",
    "    2) Develop a hypothesis for a strategy\n",
    "\n",
    "    3) Coding the model\n",
    "\n",
    "    4) Backtest the strategy"
   ]
  },
  {
   "cell_type": "markdown",
   "metadata": {},
   "source": [
    "# WHAT THIS PROJECT INCLUDES\n",
    "\n",
    "    - High - level concepts in quantitative finance\n",
    "\n",
    "    - Practical ML in trading\n",
    "\n",
    "    - Develop a project from idea to backtested results.\n",
    "\n",
    "    - It is a reasearch project for educational purposes ( no real trades)"
   ]
  },
  {
   "cell_type": "markdown",
   "metadata": {},
   "source": [
    "# What is Unsupervised Learning in Trading \n",
    "\n",
    "Unsupervised learning in trading invlolves using ML techniques to analyze financial data and discover patterns, relationships, and structures within the data without any labeled or predefined target varible(response variable). Unlike supervised learning, where the model is trained to make predictions, unsupervised learning focuses on extracting insights from the data. \n",
    "\n",
    "Steps to apply unsupervised learning in trading : \n",
    "\n",
    "    - Clustering\n",
    "    - DImensionality Reduction\n",
    "    - Anomaly Detection\n",
    "    - Market Regime Detection\n",
    "    - Portofolio Optimization"
   ]
  },
  {
   "cell_type": "markdown",
   "metadata": {},
   "source": [
    "# 1st Project : Unsupervised Learning Trading Strategy\n",
    "\n",
    "Steps to do : \n",
    "\n",
    "- Download SP500 stocks prices data. \n",
    "- Calculated different technical indicators and features for each stock. \n",
    "- Aggregate on monthly level and filter for each month only top 150 most liquid stocks.\n",
    "- Calculate monthly returns for different time-horizons to add to features.\n",
    "- Download Fama-French Factors and calculate rolling factor betas for each stock.\n",
    "- For each month fit a K-means clustering model to group similar assets based on their features.\n",
    "- For each month select assets based on the cluster and form a protofolio based on Efficient Frontier max sharpe ratio portofoli optimizations.\n",
    "- Visualize the protofolio returns and compare to SP500 returns.\n",
    "\n",
    "Limitations : We are going to use most recent SP500 stocks list, which means that there may be a survivorship bias in the list, in reality you have to use survivorship free data.  \n",
    "(Survivorship bias : a stock that has been removed from the index, we wont take them into consideration) \n"
   ]
  },
  {
   "cell_type": "markdown",
   "metadata": {},
   "source": [
    "# 2nd Project : Twitter Sentiment Investing Strategy\n",
    "\n",
    "Use NASDAQ 100 stocks and twitter sentiment data.\n",
    "\n",
    "What is Sentiment Investing : \n",
    "\n",
    "THis approach focuses on analyzing how people fell about ceratin stocks, industries, or the overall market. It assumes that public sentiment can impact stock prices and markets. For example, if many people are positive about a particular company on Twitter, it might indicate potential for that company's stock performance. \n",
    "\n",
    "Steps to Do : \n",
    "\n",
    "- Load NASDAQ stocks twitter sentiment data.\n",
    "- Calculate a quantitative feature of the engagement ratio in Twitter of each stock\n",
    "- Every month rank all stocks and construct an equal-weight portofolio\n",
    "- COmpare it against NASDAQ performance. \n",
    "\n"
   ]
  },
  {
   "cell_type": "markdown",
   "metadata": {},
   "source": [
    "# 3rd Project : Intraday Strategy Using GARCH Model\n",
    "\n",
    "Intraday Strategy : This approach invloves buying and selling financial assets within the same trading day to profit from short-term price movements. Intraday traders use technical analysis, real-time data, and risk management techniques to make quick decision, aiming to capitalize on market volatility. \n",
    "\n",
    "Steps to Do : \n",
    "\n",
    "- Load simulated daily data and simulated 5 - min data.\n",
    "- Define function to fit GARCH model and predict 1-day ahead volatility in a rolling window. \n",
    "- Calculate prediction premium and form a daily signal from it. \n",
    "- Merge with intraday data and calculate intraday indicators to form the intraday signal. \n",
    "- Generate the position entry and hold until the end of the day. \n",
    "- Calculate final strategy returns\n"
   ]
  }
 ],
 "metadata": {
  "language_info": {
   "name": "python"
  }
 },
 "nbformat": 4,
 "nbformat_minor": 2
}
